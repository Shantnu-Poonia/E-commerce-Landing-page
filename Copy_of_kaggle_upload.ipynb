{
  "nbformat": 4,
  "nbformat_minor": 0,
  "metadata": {
    "colab": {
      "provenance": [],
      "include_colab_link": true
    },
    "kernelspec": {
      "name": "python3",
      "display_name": "Python 3"
    },
    "language_info": {
      "name": "python"
    }
  },
  "cells": [
    {
      "cell_type": "markdown",
      "metadata": {
        "id": "view-in-github",
        "colab_type": "text"
      },
      "source": [
        "<a href=\"https://colab.research.google.com/github/Shantnu-Poonia/E-commerce-Landing-page/blob/main/Copy_of_kaggle_upload.ipynb\" target=\"_parent\"><img src=\"https://colab.research.google.com/assets/colab-badge.svg\" alt=\"Open In Colab\"/></a>"
      ]
    },
    {
      "cell_type": "markdown",
      "source": [
        "# **Spotify Regression Problem 2024**\n",
        "Team name = Group 21\n",
        "\n",
        "Shantnu Poonia - RegNo. 202472260\n",
        "\n",
        "Mitesh Gandhi - RegNo. 202483203\n",
        "\n",
        "Harsh Vashishtha - RegNo. 202479762\n",
        "\n",
        "Rhythm Singh Pawaria - RegNo. 202458483\n",
        "\n",
        "Ronak Dahani - RegNo."
      ],
      "metadata": {
        "id": "HmhpzGira-hB"
      }
    },
    {
      "cell_type": "markdown",
      "source": [
        "**Kaggle Competiton - CS985 Spotify Regression Problem 2024**\n",
        "\n",
        "> Your task for this part of the class assignment is to build a model to predict the popularity of a song. The data is drawn from here: https://www.kaggle.com/cnic92/spotify-past-decades-songs-50s10s. The only change that has been made is to the first column where \"Number\" has been re-named as \"Id\". Also note the points that \"There are some missing values, and the year is not always coherent due to some re-releases etc.\" However, not all the data has been used so make sure you download the training data from this (the competition) page.\n",
        "\n",
        "\n",
        "> Your challenge is to build a good machine learning model that is able to predict the popularity of a song. Popularity is an integer value so treat this as a regression problem. Ignoring Id and Popularity (named \"pop\") there are 13 other attributes in the dataset that you may use to build your model. Use as many or as few of these as you like, but remember to spend time exploring, understanding and cleaning the data. The performance of the model will be determined by the RMSE.\n",
        "\n",
        "From the competition [description](https://www.kaggle.com/competitions/cs9856-spotify-regression-problem-2024/overview/description)\n"
      ],
      "metadata": {
        "id": "C3pLPuwb17hW"
      }
    },
    {
      "cell_type": "markdown",
      "source": [
        "\n",
        "**Goal of this Notebook:**\n",
        "\n",
        "Create a machine learning model that predicts song popularity. We have a Kaggle dataset with 13 characteristics for each song, removing \"Id\" and \"Popularity\" (renamed \"pop\"). To improve the performance of our model, we will focus on data cleaning, exploration, and feature selection."
      ],
      "metadata": {
        "id": "DjfPuFbt6ztm"
      }
    },
    {
      "cell_type": "markdown",
      "source": [
        "**Used Libraries**\n",
        "\n",
        "\n",
        "*   [Numpy](http://www.numpy.org/)\n",
        "\n",
        "*   [Pandas](http://pandas.pydata.org/)\n",
        "*   [Matplotlib](http://matplotlib.org/)\n",
        "\n",
        "\n",
        "*   [Scikit-learn](https://scikit-learn.org/stable/)\n",
        "\n",
        "\n",
        "*   [Seaborn](https://seaborn.pydata.org/)\n",
        "*   [Math](https://docs.python.org/3/library/math.html)\n",
        "\n",
        "\n",
        "\n"
      ],
      "metadata": {
        "id": "jxPPUXo67z8O"
      }
    },
    {
      "cell_type": "code",
      "execution_count": 21,
      "metadata": {
        "id": "yw4kt2whu3W8"
      },
      "outputs": [],
      "source": [
        "import numpy as np\n",
        "import pandas as pd\n",
        "import matplotlib.pyplot as plt\n",
        "import seaborn as sns\n",
        "from sklearn.model_selection import train_test_split\n",
        "from sklearn.preprocessing import StandardScaler\n",
        "from sklearn.linear_model import LinearRegression\n",
        "from sklearn.tree import DecisionTreeRegressor\n",
        "from sklearn.ensemble import RandomForestRegressor\n",
        "from sklearn.metrics import mean_squared_error\n",
        "from math import sqrt\n",
        "from sklearn.metrics import r2_score"
      ]
    },
    {
      "cell_type": "markdown",
      "source": [
        "# Data Handling"
      ],
      "metadata": {
        "id": "fFMMJnhJp7U_"
      }
    },
    {
      "cell_type": "markdown",
      "source": [
        "Let's import the training and testing data into data frames (df and test_df) using the pandas \"read_csv\" function.\n",
        "\n",
        "The id column has been separated from the rest of the test data, so it may be combined with the popularity generated by the model.\n",
        "\n"
      ],
      "metadata": {
        "id": "A581oNw7oZ_R"
      }
    },
    {
      "cell_type": "code",
      "source": [
        "df=pd.read_csv('CS98XRegressionTrain.csv')"
      ],
      "metadata": {
        "id": "errAe8gvwJXT"
      },
      "execution_count": 22,
      "outputs": []
    },
    {
      "cell_type": "code",
      "source": [
        "test_df=pd.read_csv('/content/CS98XRegressionTest.csv')\n",
        "test_ids = test_df['Id']"
      ],
      "metadata": {
        "id": "Zum7oqtMhz9M"
      },
      "execution_count": 23,
      "outputs": []
    },
    {
      "cell_type": "markdown",
      "source": [
        "Display an overview of our data"
      ],
      "metadata": {
        "id": "LpzBldQuqGgZ"
      }
    },
    {
      "cell_type": "code",
      "source": [
        "df.head()"
      ],
      "metadata": {
        "colab": {
          "base_uri": "https://localhost:8080/",
          "height": 206
        },
        "id": "-yfgZF_ds4rP",
        "outputId": "f8988b4c-4804-4e93-9fd3-25395d76613a"
      },
      "execution_count": 24,
      "outputs": [
        {
          "output_type": "execute_result",
          "data": {
            "text/plain": [
              "   Id                                        title            artist  \\\n",
              "0   1                                 My Happiness    Connie Francis   \n",
              "1   2                             Unchained Melody   The Teddy Bears   \n",
              "2   3                        How Deep Is Your Love          Bee Gees   \n",
              "3   4                                Woman in Love  Barbra Streisand   \n",
              "4   5  Goodbye Yellow Brick Road - Remastered 2014        Elton John   \n",
              "\n",
              "         top genre  year  bpm  nrgy  dnce  dB  live  val  dur  acous  spch  \\\n",
              "0  adult standards  1996  107    31    45  -8    13   28  150     75     3   \n",
              "1              NaN  2011  114    44    53  -8    13   47  139     49     3   \n",
              "2  adult standards  1979  105    36    63  -9    13   67  245     11     3   \n",
              "3  adult standards  1980  170    28    47 -16    13   33  232     25     3   \n",
              "4        glam rock  1973  121    47    56  -8    15   40  193     45     3   \n",
              "\n",
              "   pop  \n",
              "0   44  \n",
              "1   37  \n",
              "2   77  \n",
              "3   67  \n",
              "4   63  "
            ],
            "text/html": [
              "\n",
              "  <div id=\"df-87230715-f855-4622-82c8-a9683e4fcd92\" class=\"colab-df-container\">\n",
              "    <div>\n",
              "<style scoped>\n",
              "    .dataframe tbody tr th:only-of-type {\n",
              "        vertical-align: middle;\n",
              "    }\n",
              "\n",
              "    .dataframe tbody tr th {\n",
              "        vertical-align: top;\n",
              "    }\n",
              "\n",
              "    .dataframe thead th {\n",
              "        text-align: right;\n",
              "    }\n",
              "</style>\n",
              "<table border=\"1\" class=\"dataframe\">\n",
              "  <thead>\n",
              "    <tr style=\"text-align: right;\">\n",
              "      <th></th>\n",
              "      <th>Id</th>\n",
              "      <th>title</th>\n",
              "      <th>artist</th>\n",
              "      <th>top genre</th>\n",
              "      <th>year</th>\n",
              "      <th>bpm</th>\n",
              "      <th>nrgy</th>\n",
              "      <th>dnce</th>\n",
              "      <th>dB</th>\n",
              "      <th>live</th>\n",
              "      <th>val</th>\n",
              "      <th>dur</th>\n",
              "      <th>acous</th>\n",
              "      <th>spch</th>\n",
              "      <th>pop</th>\n",
              "    </tr>\n",
              "  </thead>\n",
              "  <tbody>\n",
              "    <tr>\n",
              "      <th>0</th>\n",
              "      <td>1</td>\n",
              "      <td>My Happiness</td>\n",
              "      <td>Connie Francis</td>\n",
              "      <td>adult standards</td>\n",
              "      <td>1996</td>\n",
              "      <td>107</td>\n",
              "      <td>31</td>\n",
              "      <td>45</td>\n",
              "      <td>-8</td>\n",
              "      <td>13</td>\n",
              "      <td>28</td>\n",
              "      <td>150</td>\n",
              "      <td>75</td>\n",
              "      <td>3</td>\n",
              "      <td>44</td>\n",
              "    </tr>\n",
              "    <tr>\n",
              "      <th>1</th>\n",
              "      <td>2</td>\n",
              "      <td>Unchained Melody</td>\n",
              "      <td>The Teddy Bears</td>\n",
              "      <td>NaN</td>\n",
              "      <td>2011</td>\n",
              "      <td>114</td>\n",
              "      <td>44</td>\n",
              "      <td>53</td>\n",
              "      <td>-8</td>\n",
              "      <td>13</td>\n",
              "      <td>47</td>\n",
              "      <td>139</td>\n",
              "      <td>49</td>\n",
              "      <td>3</td>\n",
              "      <td>37</td>\n",
              "    </tr>\n",
              "    <tr>\n",
              "      <th>2</th>\n",
              "      <td>3</td>\n",
              "      <td>How Deep Is Your Love</td>\n",
              "      <td>Bee Gees</td>\n",
              "      <td>adult standards</td>\n",
              "      <td>1979</td>\n",
              "      <td>105</td>\n",
              "      <td>36</td>\n",
              "      <td>63</td>\n",
              "      <td>-9</td>\n",
              "      <td>13</td>\n",
              "      <td>67</td>\n",
              "      <td>245</td>\n",
              "      <td>11</td>\n",
              "      <td>3</td>\n",
              "      <td>77</td>\n",
              "    </tr>\n",
              "    <tr>\n",
              "      <th>3</th>\n",
              "      <td>4</td>\n",
              "      <td>Woman in Love</td>\n",
              "      <td>Barbra Streisand</td>\n",
              "      <td>adult standards</td>\n",
              "      <td>1980</td>\n",
              "      <td>170</td>\n",
              "      <td>28</td>\n",
              "      <td>47</td>\n",
              "      <td>-16</td>\n",
              "      <td>13</td>\n",
              "      <td>33</td>\n",
              "      <td>232</td>\n",
              "      <td>25</td>\n",
              "      <td>3</td>\n",
              "      <td>67</td>\n",
              "    </tr>\n",
              "    <tr>\n",
              "      <th>4</th>\n",
              "      <td>5</td>\n",
              "      <td>Goodbye Yellow Brick Road - Remastered 2014</td>\n",
              "      <td>Elton John</td>\n",
              "      <td>glam rock</td>\n",
              "      <td>1973</td>\n",
              "      <td>121</td>\n",
              "      <td>47</td>\n",
              "      <td>56</td>\n",
              "      <td>-8</td>\n",
              "      <td>15</td>\n",
              "      <td>40</td>\n",
              "      <td>193</td>\n",
              "      <td>45</td>\n",
              "      <td>3</td>\n",
              "      <td>63</td>\n",
              "    </tr>\n",
              "  </tbody>\n",
              "</table>\n",
              "</div>\n",
              "    <div class=\"colab-df-buttons\">\n",
              "\n",
              "  <div class=\"colab-df-container\">\n",
              "    <button class=\"colab-df-convert\" onclick=\"convertToInteractive('df-87230715-f855-4622-82c8-a9683e4fcd92')\"\n",
              "            title=\"Convert this dataframe to an interactive table.\"\n",
              "            style=\"display:none;\">\n",
              "\n",
              "  <svg xmlns=\"http://www.w3.org/2000/svg\" height=\"24px\" viewBox=\"0 -960 960 960\">\n",
              "    <path d=\"M120-120v-720h720v720H120Zm60-500h600v-160H180v160Zm220 220h160v-160H400v160Zm0 220h160v-160H400v160ZM180-400h160v-160H180v160Zm440 0h160v-160H620v160ZM180-180h160v-160H180v160Zm440 0h160v-160H620v160Z\"/>\n",
              "  </svg>\n",
              "    </button>\n",
              "\n",
              "  <style>\n",
              "    .colab-df-container {\n",
              "      display:flex;\n",
              "      gap: 12px;\n",
              "    }\n",
              "\n",
              "    .colab-df-convert {\n",
              "      background-color: #E8F0FE;\n",
              "      border: none;\n",
              "      border-radius: 50%;\n",
              "      cursor: pointer;\n",
              "      display: none;\n",
              "      fill: #1967D2;\n",
              "      height: 32px;\n",
              "      padding: 0 0 0 0;\n",
              "      width: 32px;\n",
              "    }\n",
              "\n",
              "    .colab-df-convert:hover {\n",
              "      background-color: #E2EBFA;\n",
              "      box-shadow: 0px 1px 2px rgba(60, 64, 67, 0.3), 0px 1px 3px 1px rgba(60, 64, 67, 0.15);\n",
              "      fill: #174EA6;\n",
              "    }\n",
              "\n",
              "    .colab-df-buttons div {\n",
              "      margin-bottom: 4px;\n",
              "    }\n",
              "\n",
              "    [theme=dark] .colab-df-convert {\n",
              "      background-color: #3B4455;\n",
              "      fill: #D2E3FC;\n",
              "    }\n",
              "\n",
              "    [theme=dark] .colab-df-convert:hover {\n",
              "      background-color: #434B5C;\n",
              "      box-shadow: 0px 1px 3px 1px rgba(0, 0, 0, 0.15);\n",
              "      filter: drop-shadow(0px 1px 2px rgba(0, 0, 0, 0.3));\n",
              "      fill: #FFFFFF;\n",
              "    }\n",
              "  </style>\n",
              "\n",
              "    <script>\n",
              "      const buttonEl =\n",
              "        document.querySelector('#df-87230715-f855-4622-82c8-a9683e4fcd92 button.colab-df-convert');\n",
              "      buttonEl.style.display =\n",
              "        google.colab.kernel.accessAllowed ? 'block' : 'none';\n",
              "\n",
              "      async function convertToInteractive(key) {\n",
              "        const element = document.querySelector('#df-87230715-f855-4622-82c8-a9683e4fcd92');\n",
              "        const dataTable =\n",
              "          await google.colab.kernel.invokeFunction('convertToInteractive',\n",
              "                                                    [key], {});\n",
              "        if (!dataTable) return;\n",
              "\n",
              "        const docLinkHtml = 'Like what you see? Visit the ' +\n",
              "          '<a target=\"_blank\" href=https://colab.research.google.com/notebooks/data_table.ipynb>data table notebook</a>'\n",
              "          + ' to learn more about interactive tables.';\n",
              "        element.innerHTML = '';\n",
              "        dataTable['output_type'] = 'display_data';\n",
              "        await google.colab.output.renderOutput(dataTable, element);\n",
              "        const docLink = document.createElement('div');\n",
              "        docLink.innerHTML = docLinkHtml;\n",
              "        element.appendChild(docLink);\n",
              "      }\n",
              "    </script>\n",
              "  </div>\n",
              "\n",
              "\n",
              "<div id=\"df-dc0e8562-2daa-4871-85ee-749c447669ff\">\n",
              "  <button class=\"colab-df-quickchart\" onclick=\"quickchart('df-dc0e8562-2daa-4871-85ee-749c447669ff')\"\n",
              "            title=\"Suggest charts\"\n",
              "            style=\"display:none;\">\n",
              "\n",
              "<svg xmlns=\"http://www.w3.org/2000/svg\" height=\"24px\"viewBox=\"0 0 24 24\"\n",
              "     width=\"24px\">\n",
              "    <g>\n",
              "        <path d=\"M19 3H5c-1.1 0-2 .9-2 2v14c0 1.1.9 2 2 2h14c1.1 0 2-.9 2-2V5c0-1.1-.9-2-2-2zM9 17H7v-7h2v7zm4 0h-2V7h2v10zm4 0h-2v-4h2v4z\"/>\n",
              "    </g>\n",
              "</svg>\n",
              "  </button>\n",
              "\n",
              "<style>\n",
              "  .colab-df-quickchart {\n",
              "      --bg-color: #E8F0FE;\n",
              "      --fill-color: #1967D2;\n",
              "      --hover-bg-color: #E2EBFA;\n",
              "      --hover-fill-color: #174EA6;\n",
              "      --disabled-fill-color: #AAA;\n",
              "      --disabled-bg-color: #DDD;\n",
              "  }\n",
              "\n",
              "  [theme=dark] .colab-df-quickchart {\n",
              "      --bg-color: #3B4455;\n",
              "      --fill-color: #D2E3FC;\n",
              "      --hover-bg-color: #434B5C;\n",
              "      --hover-fill-color: #FFFFFF;\n",
              "      --disabled-bg-color: #3B4455;\n",
              "      --disabled-fill-color: #666;\n",
              "  }\n",
              "\n",
              "  .colab-df-quickchart {\n",
              "    background-color: var(--bg-color);\n",
              "    border: none;\n",
              "    border-radius: 50%;\n",
              "    cursor: pointer;\n",
              "    display: none;\n",
              "    fill: var(--fill-color);\n",
              "    height: 32px;\n",
              "    padding: 0;\n",
              "    width: 32px;\n",
              "  }\n",
              "\n",
              "  .colab-df-quickchart:hover {\n",
              "    background-color: var(--hover-bg-color);\n",
              "    box-shadow: 0 1px 2px rgba(60, 64, 67, 0.3), 0 1px 3px 1px rgba(60, 64, 67, 0.15);\n",
              "    fill: var(--button-hover-fill-color);\n",
              "  }\n",
              "\n",
              "  .colab-df-quickchart-complete:disabled,\n",
              "  .colab-df-quickchart-complete:disabled:hover {\n",
              "    background-color: var(--disabled-bg-color);\n",
              "    fill: var(--disabled-fill-color);\n",
              "    box-shadow: none;\n",
              "  }\n",
              "\n",
              "  .colab-df-spinner {\n",
              "    border: 2px solid var(--fill-color);\n",
              "    border-color: transparent;\n",
              "    border-bottom-color: var(--fill-color);\n",
              "    animation:\n",
              "      spin 1s steps(1) infinite;\n",
              "  }\n",
              "\n",
              "  @keyframes spin {\n",
              "    0% {\n",
              "      border-color: transparent;\n",
              "      border-bottom-color: var(--fill-color);\n",
              "      border-left-color: var(--fill-color);\n",
              "    }\n",
              "    20% {\n",
              "      border-color: transparent;\n",
              "      border-left-color: var(--fill-color);\n",
              "      border-top-color: var(--fill-color);\n",
              "    }\n",
              "    30% {\n",
              "      border-color: transparent;\n",
              "      border-left-color: var(--fill-color);\n",
              "      border-top-color: var(--fill-color);\n",
              "      border-right-color: var(--fill-color);\n",
              "    }\n",
              "    40% {\n",
              "      border-color: transparent;\n",
              "      border-right-color: var(--fill-color);\n",
              "      border-top-color: var(--fill-color);\n",
              "    }\n",
              "    60% {\n",
              "      border-color: transparent;\n",
              "      border-right-color: var(--fill-color);\n",
              "    }\n",
              "    80% {\n",
              "      border-color: transparent;\n",
              "      border-right-color: var(--fill-color);\n",
              "      border-bottom-color: var(--fill-color);\n",
              "    }\n",
              "    90% {\n",
              "      border-color: transparent;\n",
              "      border-bottom-color: var(--fill-color);\n",
              "    }\n",
              "  }\n",
              "</style>\n",
              "\n",
              "  <script>\n",
              "    async function quickchart(key) {\n",
              "      const quickchartButtonEl =\n",
              "        document.querySelector('#' + key + ' button');\n",
              "      quickchartButtonEl.disabled = true;  // To prevent multiple clicks.\n",
              "      quickchartButtonEl.classList.add('colab-df-spinner');\n",
              "      try {\n",
              "        const charts = await google.colab.kernel.invokeFunction(\n",
              "            'suggestCharts', [key], {});\n",
              "      } catch (error) {\n",
              "        console.error('Error during call to suggestCharts:', error);\n",
              "      }\n",
              "      quickchartButtonEl.classList.remove('colab-df-spinner');\n",
              "      quickchartButtonEl.classList.add('colab-df-quickchart-complete');\n",
              "    }\n",
              "    (() => {\n",
              "      let quickchartButtonEl =\n",
              "        document.querySelector('#df-dc0e8562-2daa-4871-85ee-749c447669ff button');\n",
              "      quickchartButtonEl.style.display =\n",
              "        google.colab.kernel.accessAllowed ? 'block' : 'none';\n",
              "    })();\n",
              "  </script>\n",
              "</div>\n",
              "    </div>\n",
              "  </div>\n"
            ],
            "application/vnd.google.colaboratory.intrinsic+json": {
              "type": "dataframe",
              "variable_name": "df",
              "summary": "{\n  \"name\": \"df\",\n  \"rows\": 453,\n  \"fields\": [\n    {\n      \"column\": \"Id\",\n      \"properties\": {\n        \"dtype\": \"number\",\n        \"std\": 130,\n        \"min\": 1,\n        \"max\": 453,\n        \"samples\": [\n          353,\n          40,\n          362\n        ],\n        \"num_unique_values\": 453,\n        \"semantic_type\": \"\",\n        \"description\": \"\"\n      }\n    },\n    {\n      \"column\": \"title\",\n      \"properties\": {\n        \"dtype\": \"string\",\n        \"samples\": [\n          \"Let Me Love You\",\n          \"Voulez-Vous\",\n          \"Here Comes The Sun - Remastered 2009\"\n        ],\n        \"num_unique_values\": 451,\n        \"semantic_type\": \"\",\n        \"description\": \"\"\n      }\n    },\n    {\n      \"column\": \"artist\",\n      \"properties\": {\n        \"dtype\": \"string\",\n        \"samples\": [\n          \"Boyzone\",\n          \"Irene Cara\",\n          \"The Easybeats\"\n        ],\n        \"num_unique_values\": 345,\n        \"semantic_type\": \"\",\n        \"description\": \"\"\n      }\n    },\n    {\n      \"column\": \"top genre\",\n      \"properties\": {\n        \"dtype\": \"category\",\n        \"samples\": [\n          \"afropop\",\n          \"adult standards\",\n          \"country\"\n        ],\n        \"num_unique_values\": 86,\n        \"semantic_type\": \"\",\n        \"description\": \"\"\n      }\n    },\n    {\n      \"column\": \"year\",\n      \"properties\": {\n        \"dtype\": \"number\",\n        \"std\": 16,\n        \"min\": 1948,\n        \"max\": 2019,\n        \"samples\": [\n          1970,\n          2003,\n          1996\n        ],\n        \"num_unique_values\": 64,\n        \"semantic_type\": \"\",\n        \"description\": \"\"\n      }\n    },\n    {\n      \"column\": \"bpm\",\n      \"properties\": {\n        \"dtype\": \"number\",\n        \"std\": 25,\n        \"min\": 62,\n        \"max\": 199,\n        \"samples\": [\n          143,\n          98,\n          121\n        ],\n        \"num_unique_values\": 107,\n        \"semantic_type\": \"\",\n        \"description\": \"\"\n      }\n    },\n    {\n      \"column\": \"nrgy\",\n      \"properties\": {\n        \"dtype\": \"number\",\n        \"std\": 22,\n        \"min\": 7,\n        \"max\": 100,\n        \"samples\": [\n          61,\n          91,\n          93\n        ],\n        \"num_unique_values\": 90,\n        \"semantic_type\": \"\",\n        \"description\": \"\"\n      }\n    },\n    {\n      \"column\": \"dnce\",\n      \"properties\": {\n        \"dtype\": \"number\",\n        \"std\": 15,\n        \"min\": 18,\n        \"max\": 96,\n        \"samples\": [\n          56,\n          23,\n          72\n        ],\n        \"num_unique_values\": 77,\n        \"semantic_type\": \"\",\n        \"description\": \"\"\n      }\n    },\n    {\n      \"column\": \"dB\",\n      \"properties\": {\n        \"dtype\": \"number\",\n        \"std\": 3,\n        \"min\": -24,\n        \"max\": -1,\n        \"samples\": [\n          -8,\n          -13,\n          -15\n        ],\n        \"num_unique_values\": 21,\n        \"semantic_type\": \"\",\n        \"description\": \"\"\n      }\n    },\n    {\n      \"column\": \"live\",\n      \"properties\": {\n        \"dtype\": \"number\",\n        \"std\": 13,\n        \"min\": 2,\n        \"max\": 93,\n        \"samples\": [\n          13,\n          16,\n          40\n        ],\n        \"num_unique_values\": 58,\n        \"semantic_type\": \"\",\n        \"description\": \"\"\n      }\n    },\n    {\n      \"column\": \"val\",\n      \"properties\": {\n        \"dtype\": \"number\",\n        \"std\": 24,\n        \"min\": 6,\n        \"max\": 99,\n        \"samples\": [\n          46,\n          15,\n          72\n        ],\n        \"num_unique_values\": 94,\n        \"semantic_type\": \"\",\n        \"description\": \"\"\n      }\n    },\n    {\n      \"column\": \"dur\",\n      \"properties\": {\n        \"dtype\": \"number\",\n        \"std\": 63,\n        \"min\": 98,\n        \"max\": 511,\n        \"samples\": [\n          155,\n          152,\n          197\n        ],\n        \"num_unique_values\": 202,\n        \"semantic_type\": \"\",\n        \"description\": \"\"\n      }\n    },\n    {\n      \"column\": \"acous\",\n      \"properties\": {\n        \"dtype\": \"number\",\n        \"std\": 29,\n        \"min\": 0,\n        \"max\": 100,\n        \"samples\": [\n          72,\n          31,\n          74\n        ],\n        \"num_unique_values\": 95,\n        \"semantic_type\": \"\",\n        \"description\": \"\"\n      }\n    },\n    {\n      \"column\": \"spch\",\n      \"properties\": {\n        \"dtype\": \"number\",\n        \"std\": 5,\n        \"min\": 2,\n        \"max\": 47,\n        \"samples\": [\n          36,\n          26,\n          7\n        ],\n        \"num_unique_values\": 29,\n        \"semantic_type\": \"\",\n        \"description\": \"\"\n      }\n    },\n    {\n      \"column\": \"pop\",\n      \"properties\": {\n        \"dtype\": \"number\",\n        \"std\": 13,\n        \"min\": 26,\n        \"max\": 84,\n        \"samples\": [\n          44,\n          74,\n          39\n        ],\n        \"num_unique_values\": 59,\n        \"semantic_type\": \"\",\n        \"description\": \"\"\n      }\n    }\n  ]\n}"
            }
          },
          "metadata": {},
          "execution_count": 24
        }
      ]
    },
    {
      "cell_type": "code",
      "source": [
        "# The '.shape' function returns the dimensions of the DataFrame\n",
        "df.shape"
      ],
      "metadata": {
        "colab": {
          "base_uri": "https://localhost:8080/",
          "height": 0
        },
        "id": "Bg5Fdnz_wX6m",
        "outputId": "7dc9aa3b-c19b-4bb5-f46e-16d87cf29e8d"
      },
      "execution_count": 25,
      "outputs": [
        {
          "output_type": "execute_result",
          "data": {
            "text/plain": [
              "(453, 15)"
            ]
          },
          "metadata": {},
          "execution_count": 25
        }
      ]
    },
    {
      "cell_type": "markdown",
      "source": [
        "Let's get some information about the data"
      ],
      "metadata": {
        "id": "npsXVw6ntNZt"
      }
    },
    {
      "cell_type": "code",
      "source": [
        "df.info()"
      ],
      "metadata": {
        "colab": {
          "base_uri": "https://localhost:8080/",
          "height": 0
        },
        "id": "S1JQiPiBwcCG",
        "outputId": "483ce0a1-1d63-4ba7-a738-d30540e51396"
      },
      "execution_count": 26,
      "outputs": [
        {
          "output_type": "stream",
          "name": "stdout",
          "text": [
            "<class 'pandas.core.frame.DataFrame'>\n",
            "RangeIndex: 453 entries, 0 to 452\n",
            "Data columns (total 15 columns):\n",
            " #   Column     Non-Null Count  Dtype \n",
            "---  ------     --------------  ----- \n",
            " 0   Id         453 non-null    int64 \n",
            " 1   title      453 non-null    object\n",
            " 2   artist     453 non-null    object\n",
            " 3   top genre  438 non-null    object\n",
            " 4   year       453 non-null    int64 \n",
            " 5   bpm        453 non-null    int64 \n",
            " 6   nrgy       453 non-null    int64 \n",
            " 7   dnce       453 non-null    int64 \n",
            " 8   dB         453 non-null    int64 \n",
            " 9   live       453 non-null    int64 \n",
            " 10  val        453 non-null    int64 \n",
            " 11  dur        453 non-null    int64 \n",
            " 12  acous      453 non-null    int64 \n",
            " 13  spch       453 non-null    int64 \n",
            " 14  pop        453 non-null    int64 \n",
            "dtypes: int64(12), object(3)\n",
            "memory usage: 53.2+ KB\n"
          ]
        }
      ]
    },
    {
      "cell_type": "markdown",
      "source": [
        "**The key information obtained by looking at the data:**\n",
        "\n",
        "\n",
        "*   There are 453 songs to analyze\n",
        "\n",
        "*  Our dataset has 15 columns which are also known as features or attributes\n",
        "\n",
        "*   The info function gives us an overview about the data in each column\n",
        "\n",
        "    > For example: Let's consider our target attribute(pop).\n",
        "    'pop' column has 453 entries and out of all these not a single on of them is Null. Also the data is stored in an 'int64' datatype\n",
        "\n",
        "*   There are some missing values in 'top genre' column\n",
        "> `top genre  438 non-null    object`\n",
        "\n",
        "*  `dtypes: int64(12), object(3)`\n",
        "\n",
        " This tels us that the values/data of 3 features are stored in an 'object' data type and rest of the features are stored in an 'int64'\n",
        "\n"
      ],
      "metadata": {
        "id": "RRU5FPR2tnWi"
      }
    },
    {
      "cell_type": "markdown",
      "source": [
        "# Looking for some trends in data"
      ],
      "metadata": {
        "id": "NWkaO7HFtp4i"
      }
    },
    {
      "cell_type": "code",
      "source": [
        "trend_df = df[['pop','bpm','year','nrgy','acous', 'dur', 'dB', 'spch', 'live', 'val']]\n",
        "trend_df = trend_df.sort_values(by=['pop'], ascending=[False])\n",
        "trend_df.head(10)"
      ],
      "metadata": {
        "colab": {
          "base_uri": "https://localhost:8080/",
          "height": 363
        },
        "id": "YjR-bdUhwySA",
        "outputId": "e65b8c97-432e-416c-bbbc-773dab22317a"
      },
      "execution_count": 27,
      "outputs": [
        {
          "output_type": "execute_result",
          "data": {
            "text/plain": [
              "     pop  bpm  year  nrgy  acous  dur  dB  spch  live  val\n",
              "294   84   71  1975    40     27  354 -10     5    30   22\n",
              "234   83  146  2002    44     73  310  -7     2    11   21\n",
              "263   83   93  1982    37     26  296 -18     3     5   73\n",
              "337   82  129  1969    54      3  186 -10     3    18   39\n",
              "162   82  110  1980    53     11  215  -6    16    16   75\n",
              "427   81  110  2003    86      0  186  -4     4    64   24\n",
              "229   81  138  2005    42     16  296  -9     3    11   12\n",
              "374   81  137  1972    53     43  282  -9     3     9   34\n",
              "441   81  110  1983    59     20  184 -11     6     9   83\n",
              "346   80  119  1987    82     21  291  -9     5     9   87"
            ],
            "text/html": [
              "\n",
              "  <div id=\"df-7eedfa04-dbaf-499a-a966-23526f32d6a8\" class=\"colab-df-container\">\n",
              "    <div>\n",
              "<style scoped>\n",
              "    .dataframe tbody tr th:only-of-type {\n",
              "        vertical-align: middle;\n",
              "    }\n",
              "\n",
              "    .dataframe tbody tr th {\n",
              "        vertical-align: top;\n",
              "    }\n",
              "\n",
              "    .dataframe thead th {\n",
              "        text-align: right;\n",
              "    }\n",
              "</style>\n",
              "<table border=\"1\" class=\"dataframe\">\n",
              "  <thead>\n",
              "    <tr style=\"text-align: right;\">\n",
              "      <th></th>\n",
              "      <th>pop</th>\n",
              "      <th>bpm</th>\n",
              "      <th>year</th>\n",
              "      <th>nrgy</th>\n",
              "      <th>acous</th>\n",
              "      <th>dur</th>\n",
              "      <th>dB</th>\n",
              "      <th>spch</th>\n",
              "      <th>live</th>\n",
              "      <th>val</th>\n",
              "    </tr>\n",
              "  </thead>\n",
              "  <tbody>\n",
              "    <tr>\n",
              "      <th>294</th>\n",
              "      <td>84</td>\n",
              "      <td>71</td>\n",
              "      <td>1975</td>\n",
              "      <td>40</td>\n",
              "      <td>27</td>\n",
              "      <td>354</td>\n",
              "      <td>-10</td>\n",
              "      <td>5</td>\n",
              "      <td>30</td>\n",
              "      <td>22</td>\n",
              "    </tr>\n",
              "    <tr>\n",
              "      <th>234</th>\n",
              "      <td>83</td>\n",
              "      <td>146</td>\n",
              "      <td>2002</td>\n",
              "      <td>44</td>\n",
              "      <td>73</td>\n",
              "      <td>310</td>\n",
              "      <td>-7</td>\n",
              "      <td>2</td>\n",
              "      <td>11</td>\n",
              "      <td>21</td>\n",
              "    </tr>\n",
              "    <tr>\n",
              "      <th>263</th>\n",
              "      <td>83</td>\n",
              "      <td>93</td>\n",
              "      <td>1982</td>\n",
              "      <td>37</td>\n",
              "      <td>26</td>\n",
              "      <td>296</td>\n",
              "      <td>-18</td>\n",
              "      <td>3</td>\n",
              "      <td>5</td>\n",
              "      <td>73</td>\n",
              "    </tr>\n",
              "    <tr>\n",
              "      <th>337</th>\n",
              "      <td>82</td>\n",
              "      <td>129</td>\n",
              "      <td>1969</td>\n",
              "      <td>54</td>\n",
              "      <td>3</td>\n",
              "      <td>186</td>\n",
              "      <td>-10</td>\n",
              "      <td>3</td>\n",
              "      <td>18</td>\n",
              "      <td>39</td>\n",
              "    </tr>\n",
              "    <tr>\n",
              "      <th>162</th>\n",
              "      <td>82</td>\n",
              "      <td>110</td>\n",
              "      <td>1980</td>\n",
              "      <td>53</td>\n",
              "      <td>11</td>\n",
              "      <td>215</td>\n",
              "      <td>-6</td>\n",
              "      <td>16</td>\n",
              "      <td>16</td>\n",
              "      <td>75</td>\n",
              "    </tr>\n",
              "    <tr>\n",
              "      <th>427</th>\n",
              "      <td>81</td>\n",
              "      <td>110</td>\n",
              "      <td>2003</td>\n",
              "      <td>86</td>\n",
              "      <td>0</td>\n",
              "      <td>186</td>\n",
              "      <td>-4</td>\n",
              "      <td>4</td>\n",
              "      <td>64</td>\n",
              "      <td>24</td>\n",
              "    </tr>\n",
              "    <tr>\n",
              "      <th>229</th>\n",
              "      <td>81</td>\n",
              "      <td>138</td>\n",
              "      <td>2005</td>\n",
              "      <td>42</td>\n",
              "      <td>16</td>\n",
              "      <td>296</td>\n",
              "      <td>-9</td>\n",
              "      <td>3</td>\n",
              "      <td>11</td>\n",
              "      <td>12</td>\n",
              "    </tr>\n",
              "    <tr>\n",
              "      <th>374</th>\n",
              "      <td>81</td>\n",
              "      <td>137</td>\n",
              "      <td>1972</td>\n",
              "      <td>53</td>\n",
              "      <td>43</td>\n",
              "      <td>282</td>\n",
              "      <td>-9</td>\n",
              "      <td>3</td>\n",
              "      <td>9</td>\n",
              "      <td>34</td>\n",
              "    </tr>\n",
              "    <tr>\n",
              "      <th>441</th>\n",
              "      <td>81</td>\n",
              "      <td>110</td>\n",
              "      <td>1983</td>\n",
              "      <td>59</td>\n",
              "      <td>20</td>\n",
              "      <td>184</td>\n",
              "      <td>-11</td>\n",
              "      <td>6</td>\n",
              "      <td>9</td>\n",
              "      <td>83</td>\n",
              "    </tr>\n",
              "    <tr>\n",
              "      <th>346</th>\n",
              "      <td>80</td>\n",
              "      <td>119</td>\n",
              "      <td>1987</td>\n",
              "      <td>82</td>\n",
              "      <td>21</td>\n",
              "      <td>291</td>\n",
              "      <td>-9</td>\n",
              "      <td>5</td>\n",
              "      <td>9</td>\n",
              "      <td>87</td>\n",
              "    </tr>\n",
              "  </tbody>\n",
              "</table>\n",
              "</div>\n",
              "    <div class=\"colab-df-buttons\">\n",
              "\n",
              "  <div class=\"colab-df-container\">\n",
              "    <button class=\"colab-df-convert\" onclick=\"convertToInteractive('df-7eedfa04-dbaf-499a-a966-23526f32d6a8')\"\n",
              "            title=\"Convert this dataframe to an interactive table.\"\n",
              "            style=\"display:none;\">\n",
              "\n",
              "  <svg xmlns=\"http://www.w3.org/2000/svg\" height=\"24px\" viewBox=\"0 -960 960 960\">\n",
              "    <path d=\"M120-120v-720h720v720H120Zm60-500h600v-160H180v160Zm220 220h160v-160H400v160Zm0 220h160v-160H400v160ZM180-400h160v-160H180v160Zm440 0h160v-160H620v160ZM180-180h160v-160H180v160Zm440 0h160v-160H620v160Z\"/>\n",
              "  </svg>\n",
              "    </button>\n",
              "\n",
              "  <style>\n",
              "    .colab-df-container {\n",
              "      display:flex;\n",
              "      gap: 12px;\n",
              "    }\n",
              "\n",
              "    .colab-df-convert {\n",
              "      background-color: #E8F0FE;\n",
              "      border: none;\n",
              "      border-radius: 50%;\n",
              "      cursor: pointer;\n",
              "      display: none;\n",
              "      fill: #1967D2;\n",
              "      height: 32px;\n",
              "      padding: 0 0 0 0;\n",
              "      width: 32px;\n",
              "    }\n",
              "\n",
              "    .colab-df-convert:hover {\n",
              "      background-color: #E2EBFA;\n",
              "      box-shadow: 0px 1px 2px rgba(60, 64, 67, 0.3), 0px 1px 3px 1px rgba(60, 64, 67, 0.15);\n",
              "      fill: #174EA6;\n",
              "    }\n",
              "\n",
              "    .colab-df-buttons div {\n",
              "      margin-bottom: 4px;\n",
              "    }\n",
              "\n",
              "    [theme=dark] .colab-df-convert {\n",
              "      background-color: #3B4455;\n",
              "      fill: #D2E3FC;\n",
              "    }\n",
              "\n",
              "    [theme=dark] .colab-df-convert:hover {\n",
              "      background-color: #434B5C;\n",
              "      box-shadow: 0px 1px 3px 1px rgba(0, 0, 0, 0.15);\n",
              "      filter: drop-shadow(0px 1px 2px rgba(0, 0, 0, 0.3));\n",
              "      fill: #FFFFFF;\n",
              "    }\n",
              "  </style>\n",
              "\n",
              "    <script>\n",
              "      const buttonEl =\n",
              "        document.querySelector('#df-7eedfa04-dbaf-499a-a966-23526f32d6a8 button.colab-df-convert');\n",
              "      buttonEl.style.display =\n",
              "        google.colab.kernel.accessAllowed ? 'block' : 'none';\n",
              "\n",
              "      async function convertToInteractive(key) {\n",
              "        const element = document.querySelector('#df-7eedfa04-dbaf-499a-a966-23526f32d6a8');\n",
              "        const dataTable =\n",
              "          await google.colab.kernel.invokeFunction('convertToInteractive',\n",
              "                                                    [key], {});\n",
              "        if (!dataTable) return;\n",
              "\n",
              "        const docLinkHtml = 'Like what you see? Visit the ' +\n",
              "          '<a target=\"_blank\" href=https://colab.research.google.com/notebooks/data_table.ipynb>data table notebook</a>'\n",
              "          + ' to learn more about interactive tables.';\n",
              "        element.innerHTML = '';\n",
              "        dataTable['output_type'] = 'display_data';\n",
              "        await google.colab.output.renderOutput(dataTable, element);\n",
              "        const docLink = document.createElement('div');\n",
              "        docLink.innerHTML = docLinkHtml;\n",
              "        element.appendChild(docLink);\n",
              "      }\n",
              "    </script>\n",
              "  </div>\n",
              "\n",
              "\n",
              "<div id=\"df-70425e08-1912-4e7d-9646-c76a0d253780\">\n",
              "  <button class=\"colab-df-quickchart\" onclick=\"quickchart('df-70425e08-1912-4e7d-9646-c76a0d253780')\"\n",
              "            title=\"Suggest charts\"\n",
              "            style=\"display:none;\">\n",
              "\n",
              "<svg xmlns=\"http://www.w3.org/2000/svg\" height=\"24px\"viewBox=\"0 0 24 24\"\n",
              "     width=\"24px\">\n",
              "    <g>\n",
              "        <path d=\"M19 3H5c-1.1 0-2 .9-2 2v14c0 1.1.9 2 2 2h14c1.1 0 2-.9 2-2V5c0-1.1-.9-2-2-2zM9 17H7v-7h2v7zm4 0h-2V7h2v10zm4 0h-2v-4h2v4z\"/>\n",
              "    </g>\n",
              "</svg>\n",
              "  </button>\n",
              "\n",
              "<style>\n",
              "  .colab-df-quickchart {\n",
              "      --bg-color: #E8F0FE;\n",
              "      --fill-color: #1967D2;\n",
              "      --hover-bg-color: #E2EBFA;\n",
              "      --hover-fill-color: #174EA6;\n",
              "      --disabled-fill-color: #AAA;\n",
              "      --disabled-bg-color: #DDD;\n",
              "  }\n",
              "\n",
              "  [theme=dark] .colab-df-quickchart {\n",
              "      --bg-color: #3B4455;\n",
              "      --fill-color: #D2E3FC;\n",
              "      --hover-bg-color: #434B5C;\n",
              "      --hover-fill-color: #FFFFFF;\n",
              "      --disabled-bg-color: #3B4455;\n",
              "      --disabled-fill-color: #666;\n",
              "  }\n",
              "\n",
              "  .colab-df-quickchart {\n",
              "    background-color: var(--bg-color);\n",
              "    border: none;\n",
              "    border-radius: 50%;\n",
              "    cursor: pointer;\n",
              "    display: none;\n",
              "    fill: var(--fill-color);\n",
              "    height: 32px;\n",
              "    padding: 0;\n",
              "    width: 32px;\n",
              "  }\n",
              "\n",
              "  .colab-df-quickchart:hover {\n",
              "    background-color: var(--hover-bg-color);\n",
              "    box-shadow: 0 1px 2px rgba(60, 64, 67, 0.3), 0 1px 3px 1px rgba(60, 64, 67, 0.15);\n",
              "    fill: var(--button-hover-fill-color);\n",
              "  }\n",
              "\n",
              "  .colab-df-quickchart-complete:disabled,\n",
              "  .colab-df-quickchart-complete:disabled:hover {\n",
              "    background-color: var(--disabled-bg-color);\n",
              "    fill: var(--disabled-fill-color);\n",
              "    box-shadow: none;\n",
              "  }\n",
              "\n",
              "  .colab-df-spinner {\n",
              "    border: 2px solid var(--fill-color);\n",
              "    border-color: transparent;\n",
              "    border-bottom-color: var(--fill-color);\n",
              "    animation:\n",
              "      spin 1s steps(1) infinite;\n",
              "  }\n",
              "\n",
              "  @keyframes spin {\n",
              "    0% {\n",
              "      border-color: transparent;\n",
              "      border-bottom-color: var(--fill-color);\n",
              "      border-left-color: var(--fill-color);\n",
              "    }\n",
              "    20% {\n",
              "      border-color: transparent;\n",
              "      border-left-color: var(--fill-color);\n",
              "      border-top-color: var(--fill-color);\n",
              "    }\n",
              "    30% {\n",
              "      border-color: transparent;\n",
              "      border-left-color: var(--fill-color);\n",
              "      border-top-color: var(--fill-color);\n",
              "      border-right-color: var(--fill-color);\n",
              "    }\n",
              "    40% {\n",
              "      border-color: transparent;\n",
              "      border-right-color: var(--fill-color);\n",
              "      border-top-color: var(--fill-color);\n",
              "    }\n",
              "    60% {\n",
              "      border-color: transparent;\n",
              "      border-right-color: var(--fill-color);\n",
              "    }\n",
              "    80% {\n",
              "      border-color: transparent;\n",
              "      border-right-color: var(--fill-color);\n",
              "      border-bottom-color: var(--fill-color);\n",
              "    }\n",
              "    90% {\n",
              "      border-color: transparent;\n",
              "      border-bottom-color: var(--fill-color);\n",
              "    }\n",
              "  }\n",
              "</style>\n",
              "\n",
              "  <script>\n",
              "    async function quickchart(key) {\n",
              "      const quickchartButtonEl =\n",
              "        document.querySelector('#' + key + ' button');\n",
              "      quickchartButtonEl.disabled = true;  // To prevent multiple clicks.\n",
              "      quickchartButtonEl.classList.add('colab-df-spinner');\n",
              "      try {\n",
              "        const charts = await google.colab.kernel.invokeFunction(\n",
              "            'suggestCharts', [key], {});\n",
              "      } catch (error) {\n",
              "        console.error('Error during call to suggestCharts:', error);\n",
              "      }\n",
              "      quickchartButtonEl.classList.remove('colab-df-spinner');\n",
              "      quickchartButtonEl.classList.add('colab-df-quickchart-complete');\n",
              "    }\n",
              "    (() => {\n",
              "      let quickchartButtonEl =\n",
              "        document.querySelector('#df-70425e08-1912-4e7d-9646-c76a0d253780 button');\n",
              "      quickchartButtonEl.style.display =\n",
              "        google.colab.kernel.accessAllowed ? 'block' : 'none';\n",
              "    })();\n",
              "  </script>\n",
              "</div>\n",
              "    </div>\n",
              "  </div>\n"
            ],
            "application/vnd.google.colaboratory.intrinsic+json": {
              "type": "dataframe",
              "variable_name": "trend_df",
              "summary": "{\n  \"name\": \"trend_df\",\n  \"rows\": 453,\n  \"fields\": [\n    {\n      \"column\": \"pop\",\n      \"properties\": {\n        \"dtype\": \"number\",\n        \"std\": 13,\n        \"min\": 26,\n        \"max\": 84,\n        \"samples\": [\n          84,\n          79,\n          50\n        ],\n        \"num_unique_values\": 59,\n        \"semantic_type\": \"\",\n        \"description\": \"\"\n      }\n    },\n    {\n      \"column\": \"bpm\",\n      \"properties\": {\n        \"dtype\": \"number\",\n        \"std\": 25,\n        \"min\": 62,\n        \"max\": 199,\n        \"samples\": [\n          111,\n          139,\n          110\n        ],\n        \"num_unique_values\": 107,\n        \"semantic_type\": \"\",\n        \"description\": \"\"\n      }\n    },\n    {\n      \"column\": \"year\",\n      \"properties\": {\n        \"dtype\": \"number\",\n        \"std\": 16,\n        \"min\": 1948,\n        \"max\": 2019,\n        \"samples\": [\n          1990,\n          2015,\n          1975\n        ],\n        \"num_unique_values\": 64,\n        \"semantic_type\": \"\",\n        \"description\": \"\"\n      }\n    },\n    {\n      \"column\": \"nrgy\",\n      \"properties\": {\n        \"dtype\": \"number\",\n        \"std\": 22,\n        \"min\": 7,\n        \"max\": 100,\n        \"samples\": [\n          60,\n          85,\n          76\n        ],\n        \"num_unique_values\": 90,\n        \"semantic_type\": \"\",\n        \"description\": \"\"\n      }\n    },\n    {\n      \"column\": \"acous\",\n      \"properties\": {\n        \"dtype\": \"number\",\n        \"std\": 29,\n        \"min\": 0,\n        \"max\": 100,\n        \"samples\": [\n          44,\n          19,\n          67\n        ],\n        \"num_unique_values\": 95,\n        \"semantic_type\": \"\",\n        \"description\": \"\"\n      }\n    },\n    {\n      \"column\": \"dur\",\n      \"properties\": {\n        \"dtype\": \"number\",\n        \"std\": 63,\n        \"min\": 98,\n        \"max\": 511,\n        \"samples\": [\n          264,\n          214,\n          146\n        ],\n        \"num_unique_values\": 202,\n        \"semantic_type\": \"\",\n        \"description\": \"\"\n      }\n    },\n    {\n      \"column\": \"dB\",\n      \"properties\": {\n        \"dtype\": \"number\",\n        \"std\": 3,\n        \"min\": -24,\n        \"max\": -1,\n        \"samples\": [\n          -10,\n          -1,\n          -15\n        ],\n        \"num_unique_values\": 21,\n        \"semantic_type\": \"\",\n        \"description\": \"\"\n      }\n    },\n    {\n      \"column\": \"spch\",\n      \"properties\": {\n        \"dtype\": \"number\",\n        \"std\": 5,\n        \"min\": 2,\n        \"max\": 47,\n        \"samples\": [\n          22,\n          31,\n          7\n        ],\n        \"num_unique_values\": 29,\n        \"semantic_type\": \"\",\n        \"description\": \"\"\n      }\n    },\n    {\n      \"column\": \"live\",\n      \"properties\": {\n        \"dtype\": \"number\",\n        \"std\": 13,\n        \"min\": 2,\n        \"max\": 93,\n        \"samples\": [\n          30,\n          64,\n          84\n        ],\n        \"num_unique_values\": 58,\n        \"semantic_type\": \"\",\n        \"description\": \"\"\n      }\n    },\n    {\n      \"column\": \"val\",\n      \"properties\": {\n        \"dtype\": \"number\",\n        \"std\": 24,\n        \"min\": 6,\n        \"max\": 99,\n        \"samples\": [\n          80,\n          19,\n          33\n        ],\n        \"num_unique_values\": 94,\n        \"semantic_type\": \"\",\n        \"description\": \"\"\n      }\n    }\n  ]\n}"
            }
          },
          "metadata": {},
          "execution_count": 27
        }
      ]
    },
    {
      "cell_type": "code",
      "source": [
        "trend_df.tail(10)"
      ],
      "metadata": {
        "colab": {
          "base_uri": "https://localhost:8080/",
          "height": 363
        },
        "id": "Z3vBwFNG7EUD",
        "outputId": "fb938891-cca1-45f4-8d0b-f4d5dd857bd5"
      },
      "execution_count": 28,
      "outputs": [
        {
          "output_type": "execute_result",
          "data": {
            "text/plain": [
              "     pop  bpm  year  nrgy  acous  dur  dB  spch  live  val\n",
              "87    30  199  2019    73     37  122 -11    14    73   72\n",
              "35    30  125  2000    33     87  108 -10     3     9   68\n",
              "57    30   75  2000    14     70  135 -14     3    14   26\n",
              "90    29  109  2008    29     36  172 -15     4    16   63\n",
              "26    28   97  2016    16    100  181 -16     5    11   15\n",
              "72    28   83  2006    53     59  135  -9     3    34   80\n",
              "265   27   93  2015    62     55  120  -7     4    25   86\n",
              "252   27  142  2012    38     43  146  -8     3    13   69\n",
              "357   26  109  1953    65     79  146  -2     3    14   85\n",
              "330   26  137  2012    36     64  165 -15     4    25   28"
            ],
            "text/html": [
              "\n",
              "  <div id=\"df-7a0f8533-cbed-442e-b040-a4279d94404c\" class=\"colab-df-container\">\n",
              "    <div>\n",
              "<style scoped>\n",
              "    .dataframe tbody tr th:only-of-type {\n",
              "        vertical-align: middle;\n",
              "    }\n",
              "\n",
              "    .dataframe tbody tr th {\n",
              "        vertical-align: top;\n",
              "    }\n",
              "\n",
              "    .dataframe thead th {\n",
              "        text-align: right;\n",
              "    }\n",
              "</style>\n",
              "<table border=\"1\" class=\"dataframe\">\n",
              "  <thead>\n",
              "    <tr style=\"text-align: right;\">\n",
              "      <th></th>\n",
              "      <th>pop</th>\n",
              "      <th>bpm</th>\n",
              "      <th>year</th>\n",
              "      <th>nrgy</th>\n",
              "      <th>acous</th>\n",
              "      <th>dur</th>\n",
              "      <th>dB</th>\n",
              "      <th>spch</th>\n",
              "      <th>live</th>\n",
              "      <th>val</th>\n",
              "    </tr>\n",
              "  </thead>\n",
              "  <tbody>\n",
              "    <tr>\n",
              "      <th>87</th>\n",
              "      <td>30</td>\n",
              "      <td>199</td>\n",
              "      <td>2019</td>\n",
              "      <td>73</td>\n",
              "      <td>37</td>\n",
              "      <td>122</td>\n",
              "      <td>-11</td>\n",
              "      <td>14</td>\n",
              "      <td>73</td>\n",
              "      <td>72</td>\n",
              "    </tr>\n",
              "    <tr>\n",
              "      <th>35</th>\n",
              "      <td>30</td>\n",
              "      <td>125</td>\n",
              "      <td>2000</td>\n",
              "      <td>33</td>\n",
              "      <td>87</td>\n",
              "      <td>108</td>\n",
              "      <td>-10</td>\n",
              "      <td>3</td>\n",
              "      <td>9</td>\n",
              "      <td>68</td>\n",
              "    </tr>\n",
              "    <tr>\n",
              "      <th>57</th>\n",
              "      <td>30</td>\n",
              "      <td>75</td>\n",
              "      <td>2000</td>\n",
              "      <td>14</td>\n",
              "      <td>70</td>\n",
              "      <td>135</td>\n",
              "      <td>-14</td>\n",
              "      <td>3</td>\n",
              "      <td>14</td>\n",
              "      <td>26</td>\n",
              "    </tr>\n",
              "    <tr>\n",
              "      <th>90</th>\n",
              "      <td>29</td>\n",
              "      <td>109</td>\n",
              "      <td>2008</td>\n",
              "      <td>29</td>\n",
              "      <td>36</td>\n",
              "      <td>172</td>\n",
              "      <td>-15</td>\n",
              "      <td>4</td>\n",
              "      <td>16</td>\n",
              "      <td>63</td>\n",
              "    </tr>\n",
              "    <tr>\n",
              "      <th>26</th>\n",
              "      <td>28</td>\n",
              "      <td>97</td>\n",
              "      <td>2016</td>\n",
              "      <td>16</td>\n",
              "      <td>100</td>\n",
              "      <td>181</td>\n",
              "      <td>-16</td>\n",
              "      <td>5</td>\n",
              "      <td>11</td>\n",
              "      <td>15</td>\n",
              "    </tr>\n",
              "    <tr>\n",
              "      <th>72</th>\n",
              "      <td>28</td>\n",
              "      <td>83</td>\n",
              "      <td>2006</td>\n",
              "      <td>53</td>\n",
              "      <td>59</td>\n",
              "      <td>135</td>\n",
              "      <td>-9</td>\n",
              "      <td>3</td>\n",
              "      <td>34</td>\n",
              "      <td>80</td>\n",
              "    </tr>\n",
              "    <tr>\n",
              "      <th>265</th>\n",
              "      <td>27</td>\n",
              "      <td>93</td>\n",
              "      <td>2015</td>\n",
              "      <td>62</td>\n",
              "      <td>55</td>\n",
              "      <td>120</td>\n",
              "      <td>-7</td>\n",
              "      <td>4</td>\n",
              "      <td>25</td>\n",
              "      <td>86</td>\n",
              "    </tr>\n",
              "    <tr>\n",
              "      <th>252</th>\n",
              "      <td>27</td>\n",
              "      <td>142</td>\n",
              "      <td>2012</td>\n",
              "      <td>38</td>\n",
              "      <td>43</td>\n",
              "      <td>146</td>\n",
              "      <td>-8</td>\n",
              "      <td>3</td>\n",
              "      <td>13</td>\n",
              "      <td>69</td>\n",
              "    </tr>\n",
              "    <tr>\n",
              "      <th>357</th>\n",
              "      <td>26</td>\n",
              "      <td>109</td>\n",
              "      <td>1953</td>\n",
              "      <td>65</td>\n",
              "      <td>79</td>\n",
              "      <td>146</td>\n",
              "      <td>-2</td>\n",
              "      <td>3</td>\n",
              "      <td>14</td>\n",
              "      <td>85</td>\n",
              "    </tr>\n",
              "    <tr>\n",
              "      <th>330</th>\n",
              "      <td>26</td>\n",
              "      <td>137</td>\n",
              "      <td>2012</td>\n",
              "      <td>36</td>\n",
              "      <td>64</td>\n",
              "      <td>165</td>\n",
              "      <td>-15</td>\n",
              "      <td>4</td>\n",
              "      <td>25</td>\n",
              "      <td>28</td>\n",
              "    </tr>\n",
              "  </tbody>\n",
              "</table>\n",
              "</div>\n",
              "    <div class=\"colab-df-buttons\">\n",
              "\n",
              "  <div class=\"colab-df-container\">\n",
              "    <button class=\"colab-df-convert\" onclick=\"convertToInteractive('df-7a0f8533-cbed-442e-b040-a4279d94404c')\"\n",
              "            title=\"Convert this dataframe to an interactive table.\"\n",
              "            style=\"display:none;\">\n",
              "\n",
              "  <svg xmlns=\"http://www.w3.org/2000/svg\" height=\"24px\" viewBox=\"0 -960 960 960\">\n",
              "    <path d=\"M120-120v-720h720v720H120Zm60-500h600v-160H180v160Zm220 220h160v-160H400v160Zm0 220h160v-160H400v160ZM180-400h160v-160H180v160Zm440 0h160v-160H620v160ZM180-180h160v-160H180v160Zm440 0h160v-160H620v160Z\"/>\n",
              "  </svg>\n",
              "    </button>\n",
              "\n",
              "  <style>\n",
              "    .colab-df-container {\n",
              "      display:flex;\n",
              "      gap: 12px;\n",
              "    }\n",
              "\n",
              "    .colab-df-convert {\n",
              "      background-color: #E8F0FE;\n",
              "      border: none;\n",
              "      border-radius: 50%;\n",
              "      cursor: pointer;\n",
              "      display: none;\n",
              "      fill: #1967D2;\n",
              "      height: 32px;\n",
              "      padding: 0 0 0 0;\n",
              "      width: 32px;\n",
              "    }\n",
              "\n",
              "    .colab-df-convert:hover {\n",
              "      background-color: #E2EBFA;\n",
              "      box-shadow: 0px 1px 2px rgba(60, 64, 67, 0.3), 0px 1px 3px 1px rgba(60, 64, 67, 0.15);\n",
              "      fill: #174EA6;\n",
              "    }\n",
              "\n",
              "    .colab-df-buttons div {\n",
              "      margin-bottom: 4px;\n",
              "    }\n",
              "\n",
              "    [theme=dark] .colab-df-convert {\n",
              "      background-color: #3B4455;\n",
              "      fill: #D2E3FC;\n",
              "    }\n",
              "\n",
              "    [theme=dark] .colab-df-convert:hover {\n",
              "      background-color: #434B5C;\n",
              "      box-shadow: 0px 1px 3px 1px rgba(0, 0, 0, 0.15);\n",
              "      filter: drop-shadow(0px 1px 2px rgba(0, 0, 0, 0.3));\n",
              "      fill: #FFFFFF;\n",
              "    }\n",
              "  </style>\n",
              "\n",
              "    <script>\n",
              "      const buttonEl =\n",
              "        document.querySelector('#df-7a0f8533-cbed-442e-b040-a4279d94404c button.colab-df-convert');\n",
              "      buttonEl.style.display =\n",
              "        google.colab.kernel.accessAllowed ? 'block' : 'none';\n",
              "\n",
              "      async function convertToInteractive(key) {\n",
              "        const element = document.querySelector('#df-7a0f8533-cbed-442e-b040-a4279d94404c');\n",
              "        const dataTable =\n",
              "          await google.colab.kernel.invokeFunction('convertToInteractive',\n",
              "                                                    [key], {});\n",
              "        if (!dataTable) return;\n",
              "\n",
              "        const docLinkHtml = 'Like what you see? Visit the ' +\n",
              "          '<a target=\"_blank\" href=https://colab.research.google.com/notebooks/data_table.ipynb>data table notebook</a>'\n",
              "          + ' to learn more about interactive tables.';\n",
              "        element.innerHTML = '';\n",
              "        dataTable['output_type'] = 'display_data';\n",
              "        await google.colab.output.renderOutput(dataTable, element);\n",
              "        const docLink = document.createElement('div');\n",
              "        docLink.innerHTML = docLinkHtml;\n",
              "        element.appendChild(docLink);\n",
              "      }\n",
              "    </script>\n",
              "  </div>\n",
              "\n",
              "\n",
              "<div id=\"df-279acc66-483c-441b-8c18-0f384822db55\">\n",
              "  <button class=\"colab-df-quickchart\" onclick=\"quickchart('df-279acc66-483c-441b-8c18-0f384822db55')\"\n",
              "            title=\"Suggest charts\"\n",
              "            style=\"display:none;\">\n",
              "\n",
              "<svg xmlns=\"http://www.w3.org/2000/svg\" height=\"24px\"viewBox=\"0 0 24 24\"\n",
              "     width=\"24px\">\n",
              "    <g>\n",
              "        <path d=\"M19 3H5c-1.1 0-2 .9-2 2v14c0 1.1.9 2 2 2h14c1.1 0 2-.9 2-2V5c0-1.1-.9-2-2-2zM9 17H7v-7h2v7zm4 0h-2V7h2v10zm4 0h-2v-4h2v4z\"/>\n",
              "    </g>\n",
              "</svg>\n",
              "  </button>\n",
              "\n",
              "<style>\n",
              "  .colab-df-quickchart {\n",
              "      --bg-color: #E8F0FE;\n",
              "      --fill-color: #1967D2;\n",
              "      --hover-bg-color: #E2EBFA;\n",
              "      --hover-fill-color: #174EA6;\n",
              "      --disabled-fill-color: #AAA;\n",
              "      --disabled-bg-color: #DDD;\n",
              "  }\n",
              "\n",
              "  [theme=dark] .colab-df-quickchart {\n",
              "      --bg-color: #3B4455;\n",
              "      --fill-color: #D2E3FC;\n",
              "      --hover-bg-color: #434B5C;\n",
              "      --hover-fill-color: #FFFFFF;\n",
              "      --disabled-bg-color: #3B4455;\n",
              "      --disabled-fill-color: #666;\n",
              "  }\n",
              "\n",
              "  .colab-df-quickchart {\n",
              "    background-color: var(--bg-color);\n",
              "    border: none;\n",
              "    border-radius: 50%;\n",
              "    cursor: pointer;\n",
              "    display: none;\n",
              "    fill: var(--fill-color);\n",
              "    height: 32px;\n",
              "    padding: 0;\n",
              "    width: 32px;\n",
              "  }\n",
              "\n",
              "  .colab-df-quickchart:hover {\n",
              "    background-color: var(--hover-bg-color);\n",
              "    box-shadow: 0 1px 2px rgba(60, 64, 67, 0.3), 0 1px 3px 1px rgba(60, 64, 67, 0.15);\n",
              "    fill: var(--button-hover-fill-color);\n",
              "  }\n",
              "\n",
              "  .colab-df-quickchart-complete:disabled,\n",
              "  .colab-df-quickchart-complete:disabled:hover {\n",
              "    background-color: var(--disabled-bg-color);\n",
              "    fill: var(--disabled-fill-color);\n",
              "    box-shadow: none;\n",
              "  }\n",
              "\n",
              "  .colab-df-spinner {\n",
              "    border: 2px solid var(--fill-color);\n",
              "    border-color: transparent;\n",
              "    border-bottom-color: var(--fill-color);\n",
              "    animation:\n",
              "      spin 1s steps(1) infinite;\n",
              "  }\n",
              "\n",
              "  @keyframes spin {\n",
              "    0% {\n",
              "      border-color: transparent;\n",
              "      border-bottom-color: var(--fill-color);\n",
              "      border-left-color: var(--fill-color);\n",
              "    }\n",
              "    20% {\n",
              "      border-color: transparent;\n",
              "      border-left-color: var(--fill-color);\n",
              "      border-top-color: var(--fill-color);\n",
              "    }\n",
              "    30% {\n",
              "      border-color: transparent;\n",
              "      border-left-color: var(--fill-color);\n",
              "      border-top-color: var(--fill-color);\n",
              "      border-right-color: var(--fill-color);\n",
              "    }\n",
              "    40% {\n",
              "      border-color: transparent;\n",
              "      border-right-color: var(--fill-color);\n",
              "      border-top-color: var(--fill-color);\n",
              "    }\n",
              "    60% {\n",
              "      border-color: transparent;\n",
              "      border-right-color: var(--fill-color);\n",
              "    }\n",
              "    80% {\n",
              "      border-color: transparent;\n",
              "      border-right-color: var(--fill-color);\n",
              "      border-bottom-color: var(--fill-color);\n",
              "    }\n",
              "    90% {\n",
              "      border-color: transparent;\n",
              "      border-bottom-color: var(--fill-color);\n",
              "    }\n",
              "  }\n",
              "</style>\n",
              "\n",
              "  <script>\n",
              "    async function quickchart(key) {\n",
              "      const quickchartButtonEl =\n",
              "        document.querySelector('#' + key + ' button');\n",
              "      quickchartButtonEl.disabled = true;  // To prevent multiple clicks.\n",
              "      quickchartButtonEl.classList.add('colab-df-spinner');\n",
              "      try {\n",
              "        const charts = await google.colab.kernel.invokeFunction(\n",
              "            'suggestCharts', [key], {});\n",
              "      } catch (error) {\n",
              "        console.error('Error during call to suggestCharts:', error);\n",
              "      }\n",
              "      quickchartButtonEl.classList.remove('colab-df-spinner');\n",
              "      quickchartButtonEl.classList.add('colab-df-quickchart-complete');\n",
              "    }\n",
              "    (() => {\n",
              "      let quickchartButtonEl =\n",
              "        document.querySelector('#df-279acc66-483c-441b-8c18-0f384822db55 button');\n",
              "      quickchartButtonEl.style.display =\n",
              "        google.colab.kernel.accessAllowed ? 'block' : 'none';\n",
              "    })();\n",
              "  </script>\n",
              "</div>\n",
              "    </div>\n",
              "  </div>\n"
            ],
            "application/vnd.google.colaboratory.intrinsic+json": {
              "type": "dataframe",
              "summary": "{\n  \"name\": \"trend_df\",\n  \"rows\": 10,\n  \"fields\": [\n    {\n      \"column\": \"pop\",\n      \"properties\": {\n        \"dtype\": \"number\",\n        \"std\": 1,\n        \"min\": 26,\n        \"max\": 30,\n        \"samples\": [\n          29,\n          26,\n          28\n        ],\n        \"num_unique_values\": 5,\n        \"semantic_type\": \"\",\n        \"description\": \"\"\n      }\n    },\n    {\n      \"column\": \"bpm\",\n      \"properties\": {\n        \"dtype\": \"number\",\n        \"std\": 36,\n        \"min\": 75,\n        \"max\": 199,\n        \"samples\": [\n          142,\n          125,\n          83\n        ],\n        \"num_unique_values\": 9,\n        \"semantic_type\": \"\",\n        \"description\": \"\"\n      }\n    },\n    {\n      \"column\": \"year\",\n      \"properties\": {\n        \"dtype\": \"number\",\n        \"std\": 19,\n        \"min\": 1953,\n        \"max\": 2019,\n        \"samples\": [\n          2000,\n          2015,\n          2019\n        ],\n        \"num_unique_values\": 8,\n        \"semantic_type\": \"\",\n        \"description\": \"\"\n      }\n    },\n    {\n      \"column\": \"nrgy\",\n      \"properties\": {\n        \"dtype\": \"number\",\n        \"std\": 20,\n        \"min\": 14,\n        \"max\": 73,\n        \"samples\": [\n          65,\n          33,\n          53\n        ],\n        \"num_unique_values\": 10,\n        \"semantic_type\": \"\",\n        \"description\": \"\"\n      }\n    },\n    {\n      \"column\": \"acous\",\n      \"properties\": {\n        \"dtype\": \"number\",\n        \"std\": 21,\n        \"min\": 36,\n        \"max\": 100,\n        \"samples\": [\n          79,\n          87,\n          59\n        ],\n        \"num_unique_values\": 10,\n        \"semantic_type\": \"\",\n        \"description\": \"\"\n      }\n    },\n    {\n      \"column\": \"dur\",\n      \"properties\": {\n        \"dtype\": \"number\",\n        \"std\": 23,\n        \"min\": 108,\n        \"max\": 181,\n        \"samples\": [\n          108,\n          120,\n          122\n        ],\n        \"num_unique_values\": 8,\n        \"semantic_type\": \"\",\n        \"description\": \"\"\n      }\n    },\n    {\n      \"column\": \"dB\",\n      \"properties\": {\n        \"dtype\": \"number\",\n        \"std\": 4,\n        \"min\": -16,\n        \"max\": -2,\n        \"samples\": [\n          -8,\n          -10,\n          -9\n        ],\n        \"num_unique_values\": 9,\n        \"semantic_type\": \"\",\n        \"description\": \"\"\n      }\n    },\n    {\n      \"column\": \"spch\",\n      \"properties\": {\n        \"dtype\": \"number\",\n        \"std\": 3,\n        \"min\": 3,\n        \"max\": 14,\n        \"samples\": [\n          3,\n          5,\n          14\n        ],\n        \"num_unique_values\": 4,\n        \"semantic_type\": \"\",\n        \"description\": \"\"\n      }\n    },\n    {\n      \"column\": \"live\",\n      \"properties\": {\n        \"dtype\": \"number\",\n        \"std\": 19,\n        \"min\": 9,\n        \"max\": 73,\n        \"samples\": [\n          9,\n          34,\n          73\n        ],\n        \"num_unique_values\": 8,\n        \"semantic_type\": \"\",\n        \"description\": \"\"\n      }\n    },\n    {\n      \"column\": \"val\",\n      \"properties\": {\n        \"dtype\": \"number\",\n        \"std\": 26,\n        \"min\": 15,\n        \"max\": 86,\n        \"samples\": [\n          85,\n          68,\n          80\n        ],\n        \"num_unique_values\": 10,\n        \"semantic_type\": \"\",\n        \"description\": \"\"\n      }\n    }\n  ]\n}"
            }
          },
          "metadata": {},
          "execution_count": 28
        }
      ]
    },
    {
      "cell_type": "markdown",
      "source": [
        "**Upon sorting the data based on popularity, we can identify some trends:**\n",
        "\n",
        "\n",
        "*   The popularity value decreases with increasing acoustic value.\n",
        "\n",
        "*   Longer durations corresponds to higher popularity values\n",
        "\n",
        "*   Additionally, we noticed an extremely intriguing trend:\n",
        "Songs released before 2000 have a higher popularity than songs released after that year. However, this data contains a few notable exceptions, so we need to determine whether popularity and year have any sort of correlation before we can separate the data into before and after 2000.\n",
        "\n",
        "\n"
      ],
      "metadata": {
        "id": "rfDC15CwAZyN"
      }
    },
    {
      "cell_type": "markdown",
      "source": [
        "# Exploratory Data Analysis"
      ],
      "metadata": {
        "id": "Z-EkoKJe_NBY"
      }
    },
    {
      "cell_type": "markdown",
      "source": [
        "First we need to check if our data contains outliers"
      ],
      "metadata": {
        "id": "M1kPlAw4o3LJ"
      }
    },
    {
      "cell_type": "code",
      "source": [
        "plt.figure(figsize=(16, 10))\n",
        "\n",
        "for i in range(len(df.columns)): #iterate each column\n",
        "    plt.subplot(3, 5, i + 1)\n",
        "    sns.boxplot(df[df.columns[i]]) #plot each column\n",
        "\n",
        "plt.show()"
      ],
      "metadata": {
        "id": "T-4lslmDoOQC"
      },
      "execution_count": null,
      "outputs": []
    },
    {
      "cell_type": "markdown",
      "source": [
        "There are some outliers present in the 'dnce', 'dB'. Also the data present in 'live', 'spch' is not well distributed. We need to take care of these in pre processing."
      ],
      "metadata": {
        "id": "HFLKdWqlzY0B"
      }
    },
    {
      "cell_type": "markdown",
      "source": [
        "Let's dive deep into the corelation between popularity and other features using visual tools like Heatmap."
      ],
      "metadata": {
        "id": "c6tyIhqPGjiG"
      }
    },
    {
      "cell_type": "code",
      "source": [
        "# The heatmap shows us the degree of corelation (using the color scheme) between different numeric variables\n",
        "sns.heatmap(df.corr(), cmap='icefire');"
      ],
      "metadata": {
        "colab": {
          "base_uri": "https://localhost:8080/",
          "height": 517
        },
        "id": "-IFaldmQxTXK",
        "outputId": "78dce29b-adba-4459-d9f0-29433b36c413"
      },
      "execution_count": null,
      "outputs": [
        {
          "output_type": "stream",
          "name": "stderr",
          "text": [
            "<ipython-input-10-239b68d7df5e>:2: FutureWarning: The default value of numeric_only in DataFrame.corr is deprecated. In a future version, it will default to False. Select only valid columns or specify the value of numeric_only to silence this warning.\n",
            "  sns.heatmap(df.corr(), cmap='icefire');\n"
          ]
        },
        {
          "output_type": "display_data",
          "data": {
            "text/plain": [
              "<Figure size 640x480 with 2 Axes>"
            ],
            "image/png": "[encoded data removed]"
          },
          "metadata": {}
        }
      ]
    },
    {
      "cell_type": "markdown",
      "source": [
        "Based on the heatmap, we can deduce that the only variables that significantly positively correlate with popularity are duration ('dur'), loudness ('dB'), and energy ('nrgy'). Acoustic ('acous') and popularity are also related but in inverse fashion."
      ],
      "metadata": {
        "id": "34lMKw0uInc9"
      }
    },
    {
      "cell_type": "markdown",
      "source": [
        "This time, we use numbers to determine whether or not our hypotheses are true."
      ],
      "metadata": {
        "id": "s4uAc2_3Lxkm"
      }
    },
    {
      "cell_type": "code",
      "source": [
        "df.corr()['pop'].sort_values(ascending=False)"
      ],
      "metadata": {
        "colab": {
          "base_uri": "https://localhost:8080/"
        },
        "id": "keIGYMFvz_kF",
        "outputId": "f0255cb3-c75a-4347-f4ac-2d5c193f44ad"
      },
      "execution_count": null,
      "outputs": [
        {
          "output_type": "stream",
          "name": "stderr",
          "text": [
            "<ipython-input-11-d41e0bc36e4f>:1: FutureWarning: The default value of numeric_only in DataFrame.corr is deprecated. In a future version, it will default to False. Select only valid columns or specify the value of numeric_only to silence this warning.\n",
            "  df.corr()['pop'].sort_values(ascending=False)\n"
          ]
        },
        {
          "output_type": "execute_result",
          "data": {
            "text/plain": [
              "pop      1.000000\n",
              "dur      0.363266\n",
              "dB       0.316854\n",
              "nrgy     0.303797\n",
              "dnce     0.258670\n",
              "spch     0.130955\n",
              "Id       0.086837\n",
              "bpm      0.055024\n",
              "val     -0.018713\n",
              "live    -0.051364\n",
              "year    -0.054293\n",
              "acous   -0.465875\n",
              "Name: pop, dtype: float64"
            ]
          },
          "metadata": {},
          "execution_count": 11
        }
      ]
    },
    {
      "cell_type": "markdown",
      "source": [
        "\"Boom! Hypothesis validated! We're crushing it!\" 🚀😄"
      ],
      "metadata": {
        "id": "cQk4ATAkMLq5"
      }
    },
    {
      "cell_type": "markdown",
      "source": [
        "The data clearly show that, while acoustic has a high negative value, duration, loudness, and energy have good correlations with popularity."
      ],
      "metadata": {
        "id": "8Q3nsLmINhFV"
      }
    },
    {
      "cell_type": "markdown",
      "source": [
        "Additionally, we can see that year's influence is negligible. On the other hand, we noticed a break in the data about 2000 when examining the data. Thus, we shall include the year in our analysis.\n"
      ],
      "metadata": {
        "id": "vzb-_CnzSA74"
      }
    },
    {
      "cell_type": "markdown",
      "source": [
        "Following this phase, we looked for another trait that, with the aid of already-existing features, might have a stronger correlation with popularity.\n",
        "The existing available features \"dur,\" \"dnce,\" and \"nrgy\" were multiplied to create the two new features we introduced, \"dur_dnce\" and \"dur_nrgy.\" Although the correlation value was greater than the current ones, the model did not perform well when trained using these features. Therefore, we made the decision to keep the current features and eliminate the new ones in order to increase the model's efficiency."
      ],
      "metadata": {
        "id": "vZmSTr7nVFY4"
      }
    },
    {
      "cell_type": "markdown",
      "source": [
        "# Data Visualtisation"
      ],
      "metadata": {
        "id": "Mbg_sdzhTDmX"
      }
    },
    {
      "cell_type": "markdown",
      "source": [
        "We will use visual tools to examine the data distribution and attempt to identify some broad themes in the data."
      ],
      "metadata": {
        "id": "wxFMno1ETT9N"
      }
    },
    {
      "cell_type": "code",
      "source": [
        "Z = df.acous\n",
        "\n",
        "fig,axs = plt.subplots(2,1, figsize=(7,7))\n",
        "fig.suptitle('Observations of popularity')\n",
        "\n",
        "axs[0].set_title('Distribution of acoustic')\n",
        "sns.distplot(df['acous'], ax=axs[0], kde=False)\n",
        "\n",
        "axs[1].set_title('Relationship between popularity and acoustic')\n",
        "sns.lineplot(x='pop', y='acous', data=df, ax=axs[1])\n",
        "\n",
        "fig.tight_layout(pad=3.0)"
      ],
      "metadata": {
        "id": "sXkxq3C5QlKg"
      },
      "execution_count": null,
      "outputs": []
    },
    {
      "cell_type": "code",
      "source": [
        "Z1 = df.dur\n",
        "\n",
        "fig,axs = plt.subplots(2,1, figsize=(7,7))\n",
        "fig.suptitle('Observations of popularity')\n",
        "\n",
        "axs[0].set_title('Distribution of duration')\n",
        "sns.distplot(df['dur'], ax=axs[0], kde=False)\n",
        "\n",
        "axs[1].set_title('Relationship between popularity and duration')\n",
        "sns.lineplot(x='pop', y='dur', data=df, ax=axs[1])\n",
        "\n",
        "fig.tight_layout(pad=3.0)"
      ],
      "metadata": {
        "id": "A7D-u4ZI7QW9"
      },
      "execution_count": null,
      "outputs": []
    },
    {
      "cell_type": "markdown",
      "source": [
        "It can be clearly seen that there is no general trend in the features, also the data distribution of the attributes is not appropriate ."
      ],
      "metadata": {
        "id": "keRqBmad0VJC"
      }
    },
    {
      "cell_type": "markdown",
      "source": [
        "# Data Pre-processing"
      ],
      "metadata": {
        "id": "VYEQGYhj_HWz"
      }
    },
    {
      "cell_type": "markdown",
      "source": [
        "As we work with the data, let's get it ready to be fed into the model in the following stage."
      ],
      "metadata": {
        "id": "eoVmQFFPUhU6"
      }
    },
    {
      "cell_type": "code",
      "source": [
        "# make a copy of data so that the original dataframe is not affected\n",
        "test_df = test_df.copy()\n",
        "# drop the features in order to match with the training file\n",
        "test_df = test_df.drop(['title', 'artist', 'top genre', 'spch', 'live'], axis=1)"
      ],
      "metadata": {
        "id": "Clxdjd6cgjiw"
      },
      "execution_count": 29,
      "outputs": []
    },
    {
      "cell_type": "code",
      "source": [
        "scaler = StandardScaler()\n",
        "scaler.fit(test_df)\n",
        "test_df = pd.DataFrame(scaler.transform(test_df), index= test_df.index, columns=test_df.columns)"
      ],
      "metadata": {
        "id": "EPAqKmJwg5d-"
      },
      "execution_count": 30,
      "outputs": []
    },
    {
      "cell_type": "markdown",
      "source": [
        "Scaler: It takes each feature and scales it to a mean of 0 and a standard deviation of 1, putting them all on an equal footing."
      ],
      "metadata": {
        "id": "_c9zeF5kZUSG"
      }
    },
    {
      "cell_type": "code",
      "source": [
        "def preprocess_inputs(df):\n",
        "  df = df.copy()\n",
        "  # drop the features with lower corelation values\n",
        "  #another reason to drop spch is that when we plot the distribution graph above it showed that the spch data is biased\n",
        "  df = df.drop(['title', 'artist', 'top genre','spch', 'live'], axis=1)\n",
        "\n",
        "  # strip out the target attribute\n",
        "  y = df['pop']\n",
        "  X = df.drop('pop', axis=1)\n",
        "\n",
        "\n",
        "  # split the dataframe into train and test sets\n",
        "  X_train, X_test, y_train, y_test = train_test_split(X, y, train_size=0.7, shuffle=True, random_state=1)\n",
        "\n",
        "\n",
        "  scaler = StandardScaler()\n",
        "  scaler.fit(X_train)\n",
        "  X_train = pd.DataFrame(scaler.transform(X_train), index=X_train.index, columns=X_train.columns)\n",
        "  X_test = pd.DataFrame(scaler.transform(X_test), index=X_test.index, columns=X_test.columns)\n",
        "\n",
        "\n",
        "  return X_train, X_test, y_train, y_test\n"
      ],
      "metadata": {
        "id": "9aIXIBzZULFi"
      },
      "execution_count": 31,
      "outputs": []
    },
    {
      "cell_type": "markdown",
      "source": [
        "The data is being divided into four portions in the preprocess_inputs function: X_train, X_test, y_train, and y_test, which will be supplied into the model."
      ],
      "metadata": {
        "id": "Fx7ONrRzZkJN"
      }
    },
    {
      "cell_type": "code",
      "source": [
        "#our training data is passed to the function to generate 4 sets out of it\n",
        "X_train, X_test, y_train, y_test = preprocess_inputs(df)"
      ],
      "metadata": {
        "id": "KjF9Jov3XIvR"
      },
      "execution_count": 32,
      "outputs": []
    },
    {
      "cell_type": "code",
      "source": [
        "# variance value must be near to 1 which is exactly the case\n",
        "X_train.var()"
      ],
      "metadata": {
        "colab": {
          "base_uri": "https://localhost:8080/"
        },
        "id": "l32xwS9iwRfJ",
        "outputId": "078f89ff-2c49-4d17-9d03-dacd869ac7eb"
      },
      "execution_count": null,
      "outputs": [
        {
          "output_type": "execute_result",
          "data": {
            "text/plain": [
              "Id       1.00277\n",
              "year     1.00277\n",
              "bpm      1.00277\n",
              "nrgy     1.00277\n",
              "dnce     1.00277\n",
              "dB       1.00277\n",
              "val      1.00277\n",
              "dur      1.00277\n",
              "acous    1.00277\n",
              "dtype: float64"
            ]
          },
          "metadata": {},
          "execution_count": 21
        }
      ]
    },
    {
      "cell_type": "code",
      "source": [
        "# after applying the standard scaler the values reduced drastically. Bfore the standard scaler these values were much higher\n",
        "X_train.mean()"
      ],
      "metadata": {
        "colab": {
          "base_uri": "https://localhost:8080/"
        },
        "id": "4dfBJlUNwUTY",
        "outputId": "e31c8eaf-469d-4ed2-e1ba-b2c82b227ddd"
      },
      "execution_count": null,
      "outputs": [
        {
          "output_type": "execute_result",
          "data": {
            "text/plain": [
              "Id      -2.821561e-17\n",
              "year    -2.635093e-15\n",
              "bpm     -2.085502e-17\n",
              "nrgy     1.005948e-16\n",
              "dnce     1.889219e-16\n",
              "dB      -1.717472e-16\n",
              "val      1.472119e-16\n",
              "dur      1.594796e-16\n",
              "acous    2.453532e-17\n",
              "dtype: float64"
            ]
          },
          "metadata": {},
          "execution_count": 22
        }
      ]
    },
    {
      "cell_type": "markdown",
      "source": [
        "# Supervised Machine Learning"
      ],
      "metadata": {
        "id": "tRk01LIpyOsk"
      }
    },
    {
      "cell_type": "markdown",
      "source": [
        "**Let's now apply our model to forecast the values of the test set and store the output so that it can be uploaded to Kaggle.**\n"
      ],
      "metadata": {
        "id": "xuhZx6IigtTo"
      }
    },
    {
      "cell_type": "code",
      "source": [
        "# created a function to get the desired output file\n",
        "def print_output(model, test_df):\n",
        "  test_predictions = model.predict(test_df)\n",
        "\n",
        "  # by default the model was generating an array of popularity\n",
        "  #to concatenate it to the series of test_ids we need to convert output array to series\n",
        "  test = pd.Series(test_predictions)\n",
        "  test\n",
        "  #we need to have 2 columns in output file that needs to be uploaded on Kaggle\n",
        "  #test_ids was created as soon as we imported the test file\n",
        "  output_df = pd.concat([test_ids, test], axis=1)\n",
        "  output_df.columns = ['Id', 'pop']\n",
        "\n",
        "  output_df.to_csv(\"output.csv\",index=False)\n",
        "# during the testing phase we had to run multiple models so in order to  tackle code repetition we created this function"
      ],
      "metadata": {
        "id": "5uKMBZ7shapY"
      },
      "execution_count": 33,
      "outputs": []
    },
    {
      "cell_type": "markdown",
      "source": [
        "**Random Forest**\n",
        "\n",
        "As explained by GeeksforGeeks :\n",
        ">A random forest is an ensemble learning method that combines the predictions from multiple decision trees to produce a more accurate and stable prediction. It is a type of supervised learning algorithm that can be used for both classification and regression tasks.\n",
        "\n",
        ">Every decision tree has high variance, but when we combine all of them in parallel then the resultant variance is low as each decision tree gets perfectly trained on that particular sample data, and hence the output doesn’t depend on one decision tree but on multiple decision trees. In the case of a classification problem, the final output is taken by using the majority voting classifier. In the case of a regression problem, the final output is the mean of all the outputs. This part is called Aggregation.\n"
      ],
      "metadata": {
        "id": "b1JIlDEshz2w"
      }
    },
    {
      "cell_type": "markdown",
      "source": [
        "**Why this model, as explained by yours truly:**\n",
        "\n",
        "* As we saw in the above graphs that there is no clear trend or pattern that we can work upon. Random Forest can help us in managing sophisticated correlations between features and the desired feature.\n",
        "\n",
        "* In the EDA section while plotting the boxplot of each column we saw there are some outliers present in the 'dnce' and 'dB' and these features are used in model training which can affect the performance of the model. But random forest is our saviour as random forest is robust to outliers.\n",
        "\n",
        "* As an ensemble learning technique, Random Forest combines the predictions of several decision trees to increase precision. When compared to individual decision trees, this can result in models that are more robust.\n"
      ],
      "metadata": {
        "id": "XafBqWx4vlNC"
      }
    },
    {
      "cell_type": "code",
      "source": [
        "rf_model = RandomForestRegressor(random_state=0)\n",
        "rf_model.fit(X_train, y_train)\n",
        "val_preds2 = rf_model.predict(X_test)\n",
        "print_output(rf_model, test_df)\n",
        "\n",
        "rms1 =sqrt(mean_squared_error(y_test, val_preds2))\n",
        "print(f'Root mean squared error: {rms1:.3f}')"
      ],
      "metadata": {
        "colab": {
          "base_uri": "https://localhost:8080/",
          "height": 0
        },
        "id": "6rkAYhxT09N9",
        "outputId": "fbe52bf2-a7b8-4a48-b7a5-69b1f8962d91"
      },
      "execution_count": 37,
      "outputs": [
        {
          "output_type": "stream",
          "name": "stdout",
          "text": [
            "Root mean squared error: 10.675\n"
          ]
        }
      ]
    },
    {
      "cell_type": "code",
      "source": [
        "model = LinearRegression()\n",
        "model.fit(X_train, y_train)\n",
        "\n",
        "val_preds3 = model.predict(X_test)\n",
        "\n",
        "rms2 =sqrt(mean_squared_error(y_test, val_preds3))\n",
        "print(f'Root mean squared error: {rms2:.3f}')"
      ],
      "metadata": {
        "colab": {
          "base_uri": "https://localhost:8080/",
          "height": 0
        },
        "outputId": "d057b7c1-5045-43bd-8408-c71ee01c60b5",
        "id": "qmfi0L7d19Ng"
      },
      "execution_count": 35,
      "outputs": [
        {
          "output_type": "stream",
          "name": "stdout",
          "text": [
            "Root mean squared error: 10.880\n"
          ]
        }
      ]
    },
    {
      "cell_type": "code",
      "source": [
        "dec_tree = DecisionTreeRegressor(random_state=0)\n",
        "dec_tree.fit(X_train, y_train)\n",
        "val_preds1 = dec_tree.predict(X_test)\n",
        "\n",
        "print_output(dec_tree, test_df)\n",
        "\n",
        "rms =sqrt(mean_squared_error(y_test, val_preds1))\n",
        "print(f'Root mean squared error: {rms:.3f}')"
      ],
      "metadata": {
        "id": "vTMAgFjVi5c_",
        "colab": {
          "base_uri": "https://localhost:8080/",
          "height": 0
        },
        "outputId": "5fa24acf-bf1b-4058-a0ec-14185588b4b1"
      },
      "execution_count": 36,
      "outputs": [
        {
          "output_type": "stream",
          "name": "stdout",
          "text": [
            "Root mean squared error: 13.876\n"
          ]
        }
      ]
    },
    {
      "cell_type": "markdown",
      "source": [
        "# Model Performances\n",
        "\n",
        "**Random Forest Regressor:**\n",
        "\n",
        ">Root Mean square error: 10.675\n",
        "\n",
        "**Decision Tree Regressor:**\n",
        "\n",
        ">Root Mean square error: 13.876\n",
        "\n",
        "**Linear Regression:**\n",
        "\n",
        ">Root Mean square error: 10.880\n",
        "\n",
        "<br>\n",
        "\n",
        "We selected Random forest regressor because of its low root mean square error when compared to other models implemented."
      ],
      "metadata": {
        "id": "BrodfDHI5oGG"
      }
    },
    {
      "cell_type": "markdown",
      "source": [
        "\n",
        "# Kaggle Score for Random forest regressor:\n",
        "\n",
        "7.33337"
      ],
      "metadata": {
        "id": "PNLkHgNk7VzR"
      }
    },
    {
      "cell_type": "markdown",
      "source": [],
      "metadata": {
        "id": "DmVUFc9B7kq3"
      }
    }
  ]
}